{
 "cells": [
  {
   "cell_type": "markdown",
   "metadata": {},
   "source": [
    "Script para gerar dados falsos simulando grãos de soja de diferentes estados e fazendas."
   ]
  },
  {
   "cell_type": "code",
   "execution_count": 1,
   "metadata": {},
   "outputs": [],
   "source": [
    "import numpy as np\n",
    "import pymongo"
   ]
  },
  {
   "cell_type": "code",
   "execution_count": 2,
   "metadata": {},
   "outputs": [],
   "source": [
    "db = pymongo.MongoClient()['nosqlba']"
   ]
  },
  {
   "cell_type": "markdown",
   "metadata": {},
   "source": [
    "Doc exemplo:\n",
    "\n",
    "```python\n",
    "{\n",
    "    \"_id\": ObjectId(...),\n",
    "    \"origem\": {\n",
    "        \"estado\": \"Goiás\",\n",
    "        \"fazenda\": \"Fazenda Aqui Se Faz Soja\"\n",
    "    },\n",
    "    \"safra\": \"2016/2017\",\n",
    "    \"cor\": \"Marrom\",\n",
    "    \"dimensoes\": {\n",
    "        \"x\": 5.0394,\n",
    "        \"y\": 4.8743\n",
    "    },\n",
    "    \"peso\": 1.1579\n",
    "    \"agrotoxicos\": [\n",
    "        \"veneno forte 1\",\n",
    "        \"veneno fraco 2\",\n",
    "        \"remédio x\"\n",
    "    ]   \n",
    "}\n",
    "```"
   ]
  },
  {
   "cell_type": "code",
   "execution_count": 3,
   "metadata": {},
   "outputs": [],
   "source": [
    "toxicos = {\n",
    "    'toxicos1': ['veneno_{}'.format(i) for i in range(1,5)] + ['remedio_{}'.format(l) for l in ['a', 'b', 'x']],\n",
    "    'toxicos2': ['veneno_{}'.format(i) for i in [1,1,1,1,1,1,1,1,2,2,2,3,3,3,3]] + ['remedio_x', 'remedio_y'],\n",
    "    'toxicos3': ['remedio_{}'.format(l) for l in ['a', 'a', 'a', 'b', 'x', 'y']]*3 + ['veneno_{}'.format(i) for i in range(2,5)],\n",
    "    'toxicos4': ['remedio_{}'.format(l) for l in ['y']*9 + ['c']*3 + ['b']*3],\n",
    "}"
   ]
  },
  {
   "cell_type": "code",
   "execution_count": 4,
   "metadata": {},
   "outputs": [],
   "source": [
    "estados = ['Goiás']*5 + ['Paraná']*3 + ['Mato Grosso']*2\n",
    "origens = {\n",
    "    \"Goiás\": {\n",
    "        \"fazendas\": [\"Estância da Soja\"]*4 + [\"Fazenda Só Soja Já!\"]*7 + [\"Fazenda Del Busso\"]*5 + [\"Fazenda Aqui Se Faz Soja\"]*10 + [\"Flor do Goiás\"]*12 + [\"Soja Export\"]*8,\n",
    "        \"carac\": {\n",
    "            \"Estância da Soja\": [(5, 0.2), (4, 0.1), (1.15, 0.15), (4, 'toxicos1')],\n",
    "            \"Fazenda Só Soja Já!\": [(5.5, 0.4), (4.8, 0.12), (1.3, 0.13), (2, 'toxicos1')],\n",
    "            \"Fazenda Del Busso\": [(4.3, 0.45), (3.5, 0.5), (1.3, 0.2), (2, 'toxicos3')],\n",
    "            \"Fazenda Aqui Se Faz Soja\": [(7.3, 0.4), (6, 0.4), (1.7, 0.2), (7, 'toxicos3')],\n",
    "            \"Flor do Goiás\": [(5, 0.8), (5, 0.3), (1.15, 0.1), (3, 'toxicos1')],\n",
    "            \"Soja Export\": [(5, 0.05), (5, 0.05), (1.15, 0.03), (4, 'toxicos2')],\n",
    "        },\n",
    "        'cores': [\"Marrom\"]*50 + [\"Verde\"]*30 + [\"Mesclado\"]*20\n",
    "    },\n",
    "    \"Mato Grosso\": {\n",
    "        \"fazendas\": [\"Soja Grossa Plantation\"]*10 + [\"Soja Faz Bem Para Você SA\"]*6 + [\"Soja Da Terra\"]*3,\n",
    "        \"carac\": {\n",
    "            \"Soja Grossa Plantation\": [(9, 0.23), (8.9, 0.17), (1.75, 0.2), (3, 'toxicos1')],\n",
    "            \"Soja Faz Bem Para Você SA\": [(6, 0.4), (5, 0.6), (1.3, 0.11), (8, 'toxicos2')],\n",
    "            \"Soja Da Terra\": [(3, 0.6), (2.6, 0.5), (1.5, 0.14), (1, 'toxicos4')]\n",
    "        },\n",
    "        'cores': [\"Marrom\"]*20 + [\"Verde\"]*20 + [\"Mesclado\"]*60\n",
    "    },\n",
    "    \"Paraná\": {\n",
    "        \"fazendas\": [\"Fazenda Para na Soja\"]*9 + [\"Estância O Sol Já Nasceu\"]*2,\n",
    "        \"carac\": {\n",
    "            \"Fazenda Para na Soja\": [(4, 0.1), (4, 0.2), (0.9, 0.1), (5, 'toxicos2')],\n",
    "            \"Estância O Sol Já Nasceu\": [(4.2, 0.4), (4.2, 0.5), (1, 0.17), (3, 'toxicos3')],\n",
    "        },\n",
    "        'cores': [\"Marrom\"]*10 + [\"Verde\"]*70 + [\"Mesclado\"]*20\n",
    "    }\n",
    "}"
   ]
  },
  {
   "cell_type": "code",
   "execution_count": 5,
   "metadata": {},
   "outputs": [
    {
     "name": "stdout",
     "output_type": "stream",
     "text": [
      "bulk 1\n",
      "bulk 2\n",
      "bulk 3\n",
      "bulk 4\n",
      "bulk 5\n",
      "bulk 6\n",
      "CPU times: user 1min 32s, sys: 2.57 s, total: 1min 34s\n",
      "Wall time: 1min 36s\n"
     ]
    }
   ],
   "source": [
    "%%time\n",
    "np.random.seed(433)\n",
    "safra = '2015/2016'\n",
    "for i in range(6):\n",
    "    if i >= 3:\n",
    "        safra = '2016/2017'\n",
    "    updates = []\n",
    "    for j in range(100000):\n",
    "        estado = np.random.choice(estados)\n",
    "        fazenda = np.random.choice(origens[estado]['fazendas'])\n",
    "        cor = np.random.choice(origens[estado]['cores'])\n",
    "        caracs = origens[estado]['carac'][fazenda]\n",
    "        x = np.random.normal(caracs[0][0], caracs[0][1])\n",
    "        y = np.random.normal(caracs[1][0], caracs[1][1])\n",
    "        peso = np.random.normal(caracs[2][0], caracs[2][1])\n",
    "        if cor == 'Marrom':\n",
    "            peso *= 1.1\n",
    "        if i < 3 and fazenda == \"Fazenda Del Busso\":\n",
    "            x *= np.random.normal(3, 1)\n",
    "            y *= np.random.normal(3, 1)\n",
    "            peso *= np.random.normal(5, 1)\n",
    "        tox = list(np.random.choice(toxicos[caracs[3][1]], size=caracs[3][0]))\n",
    "\n",
    "        doc = {\n",
    "            'origem': {\n",
    "                'estado': estado,\n",
    "                'fazenda': fazenda\n",
    "            },\n",
    "            'safra': safra,\n",
    "            'cor': cor,\n",
    "            'dimensoes': {\n",
    "                'x': x,\n",
    "                'y': y\n",
    "            },\n",
    "            'peso': peso,\n",
    "            'toxicos': tox\n",
    "        }\n",
    "        \n",
    "        updates.append(pymongo.InsertOne(doc))\n",
    "    db.soja.bulk_write(updates)\n",
    "    print('bulk', i+1)\n",
    "\n"
   ]
  },
  {
   "cell_type": "code",
   "execution_count": null,
   "metadata": {},
   "outputs": [],
   "source": []
  }
 ],
 "metadata": {
  "kernelspec": {
   "display_name": "Python [nosqlba]",
   "language": "python",
   "name": "nosqlba"
  },
  "language_info": {
   "codemirror_mode": {
    "name": "ipython",
    "version": 3
   },
   "file_extension": ".py",
   "mimetype": "text/x-python",
   "name": "python",
   "nbconvert_exporter": "python",
   "pygments_lexer": "ipython3",
   "version": "3.6.4"
  }
 },
 "nbformat": 4,
 "nbformat_minor": 2
}
